{
  "nbformat": 4,
  "nbformat_minor": 0,
  "metadata": {
    "colab": {
      "name": " Cleaning & Missing Values - Project.ipynb",
      "provenance": [],
      "collapsed_sections": []
    },
    "kernelspec": {
      "name": "python3",
      "display_name": "Python 3"
    }
  },
  "cells": [
    {
      "cell_type": "markdown",
      "metadata": {
        "id": "2zxREd_otAge"
      },
      "source": [
        "![Immoscout](https://raw.githubusercontent.com/juliandnl/redi_ss20/master/image.png)"
      ]
    },
    {
      "cell_type": "markdown",
      "metadata": {
        "id": "YAmw_s-VtIaV"
      },
      "source": [
        "# Project - Cleaning the Expanded Immobilien Scout 24 Dataset\n",
        "\n",
        "--- "
      ]
    },
    {
      "cell_type": "code",
      "metadata": {
        "id": "cDxFVRHbq6eR"
      },
      "source": [
        "import numpy as np\n",
        "import pandas as pd\n",
        "import plotly.express as px"
      ],
      "execution_count": 3,
      "outputs": []
    },
    {
      "cell_type": "code",
      "metadata": {
        "id": "2GD2ryFwto1a"
      },
      "source": [
        "# Read in dataset\n",
        "df = pd.read_pickle(\"/content/berlin_housing_with_scraped_class_cleaned.pkl\")"
      ],
      "execution_count": 4,
      "outputs": []
    },
    {
      "cell_type": "code",
      "metadata": {
        "id": "EFdOoJcZVrc1",
        "colab": {
          "base_uri": "https://localhost:8080/",
          "height": 350
        },
        "outputId": "dacc3fa2-ee4c-42e5-b767-dd6b085089ef"
      },
      "source": [
        "df.head()"
      ],
      "execution_count": 5,
      "outputs": [
        {
          "output_type": "execute_result",
          "data": {
            "text/html": [
              "<div>\n",
              "<style scoped>\n",
              "    .dataframe tbody tr th:only-of-type {\n",
              "        vertical-align: middle;\n",
              "    }\n",
              "\n",
              "    .dataframe tbody tr th {\n",
              "        vertical-align: top;\n",
              "    }\n",
              "\n",
              "    .dataframe thead th {\n",
              "        text-align: right;\n",
              "    }\n",
              "</style>\n",
              "<table border=\"1\" class=\"dataframe\">\n",
              "  <thead>\n",
              "    <tr style=\"text-align: right;\">\n",
              "      <th></th>\n",
              "      <th>url</th>\n",
              "      <th>region</th>\n",
              "      <th>condition</th>\n",
              "      <th>rooms</th>\n",
              "      <th>rent</th>\n",
              "      <th>year_construction</th>\n",
              "      <th>space</th>\n",
              "      <th>cold_rent</th>\n",
              "      <th>utilities</th>\n",
              "      <th>heating_costs</th>\n",
              "      <th>security_deposit</th>\n",
              "      <th>parking_space</th>\n",
              "      <th>renovated_date</th>\n",
              "      <th>property_condition</th>\n",
              "      <th>furnishing</th>\n",
              "      <th>heating_type</th>\n",
              "      <th>energy_sources</th>\n",
              "      <th>energy_certificate</th>\n",
              "      <th>type_of_certificate</th>\n",
              "      <th>energy_requirement</th>\n",
              "      <th>efficiency_class</th>\n",
              "      <th>deposit_cleaned</th>\n",
              "      <th>n_missing</th>\n",
              "    </tr>\n",
              "  </thead>\n",
              "  <tbody>\n",
              "    <tr>\n",
              "      <th>0</th>\n",
              "      <td>https://www.immobilienscout24.de/expose/116051687</td>\n",
              "      <td>Mitte</td>\n",
              "      <td>first_time_use</td>\n",
              "      <td>4.0</td>\n",
              "      <td>2659.00</td>\n",
              "      <td>2019</td>\n",
              "      <td>117.20</td>\n",
              "      <td>2199.000000</td>\n",
              "      <td>+460€</td>\n",
              "      <td>in</td>\n",
              "      <td>3</td>\n",
              "      <td>120€</td>\n",
              "      <td>NaN</td>\n",
              "      <td>New</td>\n",
              "      <td>NaN</td>\n",
              "      <td>Underfloor Heating</td>\n",
              "      <td>NaN</td>\n",
              "      <td>NaN</td>\n",
              "      <td>Bedarfsausweis</td>\n",
              "      <td>NaN</td>\n",
              "      <td>B</td>\n",
              "      <td>7977.00</td>\n",
              "      <td>5</td>\n",
              "    </tr>\n",
              "    <tr>\n",
              "      <th>1</th>\n",
              "      <td>https://www.immobilienscout24.de/expose/115338103</td>\n",
              "      <td>Kreuzberg</td>\n",
              "      <td>first_time_use</td>\n",
              "      <td>1.0</td>\n",
              "      <td>1200.00</td>\n",
              "      <td>2020</td>\n",
              "      <td>29.33</td>\n",
              "      <td>973.510000</td>\n",
              "      <td>+226,49€</td>\n",
              "      <td>in</td>\n",
              "      <td>2920.53</td>\n",
              "      <td>NaN</td>\n",
              "      <td>NaN</td>\n",
              "      <td>New</td>\n",
              "      <td>Gehobene Qualität</td>\n",
              "      <td>Central Heating</td>\n",
              "      <td>Fernwärme Energieausweis liegt vor</td>\n",
              "      <td>liegt vor</td>\n",
              "      <td>NaN</td>\n",
              "      <td>NaN</td>\n",
              "      <td>NaN</td>\n",
              "      <td>2920.53</td>\n",
              "      <td>5</td>\n",
              "    </tr>\n",
              "    <tr>\n",
              "      <th>2</th>\n",
              "      <td>https://www.immobilienscout24.de/expose/116458710</td>\n",
              "      <td>Köpenick</td>\n",
              "      <td>well_kept</td>\n",
              "      <td>2.0</td>\n",
              "      <td>979.00</td>\n",
              "      <td>1997</td>\n",
              "      <td>83.61</td>\n",
              "      <td>799.000000</td>\n",
              "      <td>+90€</td>\n",
              "      <td>+90€</td>\n",
              "      <td>3</td>\n",
              "      <td>NaN</td>\n",
              "      <td>NaN</td>\n",
              "      <td>Groomed</td>\n",
              "      <td>Normale Qualität</td>\n",
              "      <td>Central Heating</td>\n",
              "      <td>Fernwärme Energieausweis liegt vor</td>\n",
              "      <td>liegt vor</td>\n",
              "      <td>Verbrauchsausweis Energie­ver­brauchs­kennwert...</td>\n",
              "      <td>NaN</td>\n",
              "      <td>NaN</td>\n",
              "      <td>2937.00</td>\n",
              "      <td>4</td>\n",
              "    </tr>\n",
              "    <tr>\n",
              "      <th>3</th>\n",
              "      <td>https://www.immobilienscout24.de/expose/116573177</td>\n",
              "      <td>Wilmersdorf</td>\n",
              "      <td>well_kept</td>\n",
              "      <td>4.0</td>\n",
              "      <td>1830.22</td>\n",
              "      <td>1900</td>\n",
              "      <td>171.18</td>\n",
              "      <td>911.544216</td>\n",
              "      <td>NaN</td>\n",
              "      <td>NaN</td>\n",
              "      <td>nan</td>\n",
              "      <td>NaN</td>\n",
              "      <td>NaN</td>\n",
              "      <td>Unknown</td>\n",
              "      <td>NaN</td>\n",
              "      <td>NaN</td>\n",
              "      <td>NaN</td>\n",
              "      <td>NaN</td>\n",
              "      <td>NaN</td>\n",
              "      <td>NaN</td>\n",
              "      <td>NaN</td>\n",
              "      <td>5490.66</td>\n",
              "      <td>13</td>\n",
              "    </tr>\n",
              "    <tr>\n",
              "      <th>4</th>\n",
              "      <td>https://www.immobilienscout24.de/expose/115925878</td>\n",
              "      <td>Kreuzberg</td>\n",
              "      <td>first_time_use</td>\n",
              "      <td>2.0</td>\n",
              "      <td>2272.00</td>\n",
              "      <td>2020</td>\n",
              "      <td>88.27</td>\n",
              "      <td>1131.573505</td>\n",
              "      <td>NaN</td>\n",
              "      <td>NaN</td>\n",
              "      <td>nan</td>\n",
              "      <td>NaN</td>\n",
              "      <td>NaN</td>\n",
              "      <td>New</td>\n",
              "      <td>Gehobene Qualität</td>\n",
              "      <td>Central Heating</td>\n",
              "      <td>Fernwärme Energieausweis liegt zur Besichtigun...</td>\n",
              "      <td>liegt zur Besichtigung vor</td>\n",
              "      <td>NaN</td>\n",
              "      <td>NaN</td>\n",
              "      <td>NaN</td>\n",
              "      <td>6816.00</td>\n",
              "      <td>8</td>\n",
              "    </tr>\n",
              "  </tbody>\n",
              "</table>\n",
              "</div>"
            ],
            "text/plain": [
              "                                                 url  ... n_missing\n",
              "0  https://www.immobilienscout24.de/expose/116051687  ...         5\n",
              "1  https://www.immobilienscout24.de/expose/115338103  ...         5\n",
              "2  https://www.immobilienscout24.de/expose/116458710  ...         4\n",
              "3  https://www.immobilienscout24.de/expose/116573177  ...        13\n",
              "4  https://www.immobilienscout24.de/expose/115925878  ...         8\n",
              "\n",
              "[5 rows x 23 columns]"
            ]
          },
          "metadata": {},
          "execution_count": 5
        }
      ]
    },
    {
      "cell_type": "markdown",
      "metadata": {
        "id": "PZmVxvM_4C5V"
      },
      "source": [
        "## 0. Before cleaning, print out how many missing values (sorted for readability) each column has:"
      ]
    },
    {
      "cell_type": "code",
      "metadata": {
        "id": "OELxGQNs-AhR",
        "colab": {
          "base_uri": "https://localhost:8080/"
        },
        "outputId": "4be9be03-c383-4e7c-f887-d3d0da80e3d1"
      },
      "source": [
        "# checking the missing values\n",
        "(df.isnull().sum() / len(df)).sort_values(ascending = False)"
      ],
      "execution_count": 6,
      "outputs": [
        {
          "output_type": "execute_result",
          "data": {
            "text/plain": [
              "parking_space          0.882199\n",
              "renovated_date         0.744764\n",
              "efficiency_class       0.671466\n",
              "energy_requirement     0.573298\n",
              "heating_costs          0.442408\n",
              "utilities              0.442408\n",
              "furnishing             0.417539\n",
              "energy_certificate     0.409686\n",
              "type_of_certificate    0.388743\n",
              "energy_sources         0.353403\n",
              "heating_type           0.325916\n",
              "year_construction      0.000000\n",
              "region                 0.000000\n",
              "condition              0.000000\n",
              "rooms                  0.000000\n",
              "rent                   0.000000\n",
              "n_missing              0.000000\n",
              "space                  0.000000\n",
              "cold_rent              0.000000\n",
              "security_deposit       0.000000\n",
              "deposit_cleaned        0.000000\n",
              "property_condition     0.000000\n",
              "url                    0.000000\n",
              "dtype: float64"
            ]
          },
          "metadata": {},
          "execution_count": 6
        }
      ]
    },
    {
      "cell_type": "markdown",
      "metadata": {
        "id": "UeSRMJD94EZ7"
      },
      "source": [
        "## 1. Clean: `heating_type`\n",
        "\n",
        "Please explain why you choose your strategy for filling the missing values."
      ]
    },
    {
      "cell_type": "markdown",
      "metadata": {
        "id": "a6xBDZHYGr1e"
      },
      "source": [
        "**Strategy**\n",
        "- Replace each missing heating_type value with the predominant heating type of the apartment's century (year of construction in century)\n",
        "\n",
        "**Why?**\n",
        "- Since heating_type is a category data, it will be impossible to use the Mean or Median\n",
        "- Using the Mode might also not reflect reality. Heating types changes with technological advancement \n",
        "- If heating types changes according to technological advancement, it is important to take the year of construction into account while filling the missing value i.e. if gas heating is the latest heating technology in 1800, most houses in this era will most likely have a gas heating system"
      ]
    },
    {
      "cell_type": "code",
      "metadata": {
        "colab": {
          "base_uri": "https://localhost:8080/"
        },
        "id": "sS9AxK1IMBy4",
        "outputId": "54c2614b-bee3-4cdc-e8af-07aa6b0451b1"
      },
      "source": [
        "# Taking the Mode will mean replacing the missing value with Central Heating\n",
        "df.heating_type.value_counts()"
      ],
      "execution_count": 7,
      "outputs": [
        {
          "output_type": "execute_result",
          "data": {
            "text/plain": [
              "Central Heating        201\n",
              "District Heating       149\n",
              "Underfloor Heating     127\n",
              "Floor Heating           24\n",
              "Gas Heating             10\n",
              "CHP Plants               2\n",
              "Wood Pellet Heating      2\n",
              "Name: heating_type, dtype: int64"
            ]
          },
          "metadata": {},
          "execution_count": 7
        }
      ]
    },
    {
      "cell_type": "code",
      "metadata": {
        "colab": {
          "base_uri": "https://localhost:8080/"
        },
        "id": "ThvNcTQXOyH3",
        "outputId": "f99100e8-b097-42e6-a9c3-98a0e0f401ae"
      },
      "source": [
        "# Categorizing into 3 era: before 1900, 1900 - 2000 and after 2000\n",
        "df_year_1900 =df[df['year_construction'] <=1900]\n",
        "df_year_1900['heating_type'].value_counts() "
      ],
      "execution_count": 8,
      "outputs": [
        {
          "output_type": "execute_result",
          "data": {
            "text/plain": [
              "Central Heating       32\n",
              "District Heating      10\n",
              "Floor Heating          7\n",
              "Gas Heating            3\n",
              "Underfloor Heating     2\n",
              "Name: heating_type, dtype: int64"
            ]
          },
          "metadata": {},
          "execution_count": 8
        }
      ]
    },
    {
      "cell_type": "code",
      "metadata": {
        "colab": {
          "base_uri": "https://localhost:8080/"
        },
        "id": "G7SL71BUPrZv",
        "outputId": "eff7eaf6-4503-4783-c86b-216580e072a9"
      },
      "source": [
        "# Since Central heating the most prodominant in this era, I will replace the missing value in this era with Central Heating\n",
        "df_year_1900['heating_type'] = df_year_1900['heating_type'].replace(np.nan, 'Central Heating')\n",
        "df_year_1900['heating_type'].isnull().sum()"
      ],
      "execution_count": 9,
      "outputs": [
        {
          "output_type": "stream",
          "name": "stderr",
          "text": [
            "/usr/local/lib/python3.7/dist-packages/ipykernel_launcher.py:2: SettingWithCopyWarning:\n",
            "\n",
            "\n",
            "A value is trying to be set on a copy of a slice from a DataFrame.\n",
            "Try using .loc[row_indexer,col_indexer] = value instead\n",
            "\n",
            "See the caveats in the documentation: https://pandas.pydata.org/pandas-docs/stable/user_guide/indexing.html#returning-a-view-versus-a-copy\n",
            "\n"
          ]
        },
        {
          "output_type": "execute_result",
          "data": {
            "text/plain": [
              "0"
            ]
          },
          "metadata": {},
          "execution_count": 9
        }
      ]
    },
    {
      "cell_type": "code",
      "metadata": {
        "colab": {
          "base_uri": "https://localhost:8080/"
        },
        "id": "vdK9BWPTQ3eq",
        "outputId": "683ff3e9-07c2-4660-856a-8dea31cb8885"
      },
      "source": [
        "df_year_2000 = df[(df['year_construction'] > 1900) & (df['year_construction'] <= 2000)]\n",
        "df_year_2000['heating_type'].value_counts()"
      ],
      "execution_count": 10,
      "outputs": [
        {
          "output_type": "execute_result",
          "data": {
            "text/plain": [
              "Central Heating       86\n",
              "District Heating      38\n",
              "Floor Heating         13\n",
              "Underfloor Heating     6\n",
              "Gas Heating            5\n",
              "Name: heating_type, dtype: int64"
            ]
          },
          "metadata": {},
          "execution_count": 10
        }
      ]
    },
    {
      "cell_type": "code",
      "metadata": {
        "colab": {
          "base_uri": "https://localhost:8080/"
        },
        "id": "zi-Kv6pjSLyb",
        "outputId": "ba69074a-cc86-4a8f-f998-ad205a5cfd7c"
      },
      "source": [
        "# I replace the missing value in this era with Central heating too\n",
        "df_year_2000['heating_type'] = df_year_2000['heating_type'].replace(np.nan, 'Central Heating')\n",
        "df_year_2000['heating_type'].isnull().sum()"
      ],
      "execution_count": 11,
      "outputs": [
        {
          "output_type": "stream",
          "name": "stderr",
          "text": [
            "/usr/local/lib/python3.7/dist-packages/ipykernel_launcher.py:2: SettingWithCopyWarning:\n",
            "\n",
            "\n",
            "A value is trying to be set on a copy of a slice from a DataFrame.\n",
            "Try using .loc[row_indexer,col_indexer] = value instead\n",
            "\n",
            "See the caveats in the documentation: https://pandas.pydata.org/pandas-docs/stable/user_guide/indexing.html#returning-a-view-versus-a-copy\n",
            "\n"
          ]
        },
        {
          "output_type": "execute_result",
          "data": {
            "text/plain": [
              "0"
            ]
          },
          "metadata": {},
          "execution_count": 11
        }
      ]
    },
    {
      "cell_type": "code",
      "metadata": {
        "colab": {
          "base_uri": "https://localhost:8080/"
        },
        "id": "6g8gQadlS19e",
        "outputId": "d29d5d65-8be5-498f-c23b-ab4040e3ea6c"
      },
      "source": [
        "df_year_above_2000 =df[df['year_construction'] > 2000]\n",
        "df_year_above_2000['heating_type'].value_counts()"
      ],
      "execution_count": 12,
      "outputs": [
        {
          "output_type": "execute_result",
          "data": {
            "text/plain": [
              "Underfloor Heating     119\n",
              "District Heating       101\n",
              "Central Heating         83\n",
              "Floor Heating            4\n",
              "Gas Heating              2\n",
              "CHP Plants               2\n",
              "Wood Pellet Heating      2\n",
              "Name: heating_type, dtype: int64"
            ]
          },
          "metadata": {},
          "execution_count": 12
        }
      ]
    },
    {
      "cell_type": "code",
      "metadata": {
        "colab": {
          "base_uri": "https://localhost:8080/"
        },
        "id": "DYK7VxOdS-ZZ",
        "outputId": "ba9f85a4-18ae-45ce-d939-77db37029905"
      },
      "source": [
        "# I replace the missing value in this era with Underfloor Heating\n",
        "df_year_above_2000['heating_type'] = df_year_above_2000['heating_type'].replace(np.nan, 'Underfloor Heating')\n",
        "df_year_above_2000['heating_type'].isnull().sum()"
      ],
      "execution_count": 13,
      "outputs": [
        {
          "output_type": "stream",
          "name": "stderr",
          "text": [
            "/usr/local/lib/python3.7/dist-packages/ipykernel_launcher.py:2: SettingWithCopyWarning:\n",
            "\n",
            "\n",
            "A value is trying to be set on a copy of a slice from a DataFrame.\n",
            "Try using .loc[row_indexer,col_indexer] = value instead\n",
            "\n",
            "See the caveats in the documentation: https://pandas.pydata.org/pandas-docs/stable/user_guide/indexing.html#returning-a-view-versus-a-copy\n",
            "\n"
          ]
        },
        {
          "output_type": "execute_result",
          "data": {
            "text/plain": [
              "0"
            ]
          },
          "metadata": {},
          "execution_count": 13
        }
      ]
    },
    {
      "cell_type": "code",
      "metadata": {
        "colab": {
          "base_uri": "https://localhost:8080/"
        },
        "id": "xpek1HZlTg-1",
        "outputId": "ac2bae90-1968-4056-bcdc-efc8c2774e30"
      },
      "source": [
        "# Bringing back dataset from each era into one combined data set\n",
        "combined = pd.concat([df_year_1900, df_year_2000, df_year_above_2000], ignore_index=True)\n",
        "combined['heating_type'].isnull().sum()"
      ],
      "execution_count": 14,
      "outputs": [
        {
          "output_type": "execute_result",
          "data": {
            "text/plain": [
              "0"
            ]
          },
          "metadata": {},
          "execution_count": 14
        }
      ]
    },
    {
      "cell_type": "code",
      "metadata": {
        "id": "CyKQMuUfUvW4",
        "colab": {
          "base_uri": "https://localhost:8080/",
          "height": 566
        },
        "outputId": "084c5a95-b536-4f28-ad8e-8ec99fab90b0"
      },
      "source": [
        "combined.sample(10)"
      ],
      "execution_count": 15,
      "outputs": [
        {
          "output_type": "execute_result",
          "data": {
            "text/html": [
              "<div>\n",
              "<style scoped>\n",
              "    .dataframe tbody tr th:only-of-type {\n",
              "        vertical-align: middle;\n",
              "    }\n",
              "\n",
              "    .dataframe tbody tr th {\n",
              "        vertical-align: top;\n",
              "    }\n",
              "\n",
              "    .dataframe thead th {\n",
              "        text-align: right;\n",
              "    }\n",
              "</style>\n",
              "<table border=\"1\" class=\"dataframe\">\n",
              "  <thead>\n",
              "    <tr style=\"text-align: right;\">\n",
              "      <th></th>\n",
              "      <th>url</th>\n",
              "      <th>region</th>\n",
              "      <th>condition</th>\n",
              "      <th>rooms</th>\n",
              "      <th>rent</th>\n",
              "      <th>year_construction</th>\n",
              "      <th>space</th>\n",
              "      <th>cold_rent</th>\n",
              "      <th>utilities</th>\n",
              "      <th>heating_costs</th>\n",
              "      <th>security_deposit</th>\n",
              "      <th>parking_space</th>\n",
              "      <th>renovated_date</th>\n",
              "      <th>property_condition</th>\n",
              "      <th>furnishing</th>\n",
              "      <th>heating_type</th>\n",
              "      <th>energy_sources</th>\n",
              "      <th>energy_certificate</th>\n",
              "      <th>type_of_certificate</th>\n",
              "      <th>energy_requirement</th>\n",
              "      <th>efficiency_class</th>\n",
              "      <th>deposit_cleaned</th>\n",
              "      <th>n_missing</th>\n",
              "    </tr>\n",
              "  </thead>\n",
              "  <tbody>\n",
              "    <tr>\n",
              "      <th>745</th>\n",
              "      <td>https://www.immobilienscout24.de/expose/109139762</td>\n",
              "      <td>Mitte</td>\n",
              "      <td>well_kept</td>\n",
              "      <td>2.0</td>\n",
              "      <td>1350.00</td>\n",
              "      <td>2014</td>\n",
              "      <td>68.00</td>\n",
              "      <td>672.369820</td>\n",
              "      <td>NaN</td>\n",
              "      <td>NaN</td>\n",
              "      <td>nan</td>\n",
              "      <td>NaN</td>\n",
              "      <td>NaN</td>\n",
              "      <td>Unknown</td>\n",
              "      <td>NaN</td>\n",
              "      <td>Underfloor Heating</td>\n",
              "      <td>NaN</td>\n",
              "      <td>NaN</td>\n",
              "      <td>NaN</td>\n",
              "      <td>NaN</td>\n",
              "      <td>NaN</td>\n",
              "      <td>4050.00</td>\n",
              "      <td>13</td>\n",
              "    </tr>\n",
              "    <tr>\n",
              "      <th>110</th>\n",
              "      <td>https://www.immobilienscout24.de/expose/114734492</td>\n",
              "      <td>Tiergarten</td>\n",
              "      <td>mint_condition</td>\n",
              "      <td>3.0</td>\n",
              "      <td>2227.00</td>\n",
              "      <td>1998</td>\n",
              "      <td>105.97</td>\n",
              "      <td>1750.000000</td>\n",
              "      <td>+477€</td>\n",
              "      <td>in</td>\n",
              "      <td>nan</td>\n",
              "      <td>NaN</td>\n",
              "      <td>2017.0</td>\n",
              "      <td>Mint Condition</td>\n",
              "      <td>NaN</td>\n",
              "      <td>Central Heating</td>\n",
              "      <td>NaN</td>\n",
              "      <td>liegt vor</td>\n",
              "      <td>Verbrauchsausweis End­energie­verbrauch 219,5 ...</td>\n",
              "      <td>NaN</td>\n",
              "      <td>G</td>\n",
              "      <td>6681.00</td>\n",
              "      <td>5</td>\n",
              "    </tr>\n",
              "    <tr>\n",
              "      <th>322</th>\n",
              "      <td>https://www.immobilienscout24.de/expose/99320272</td>\n",
              "      <td>Neukölln</td>\n",
              "      <td>fully_renovated</td>\n",
              "      <td>2.0</td>\n",
              "      <td>888.00</td>\n",
              "      <td>1990</td>\n",
              "      <td>68.48</td>\n",
              "      <td>442.269926</td>\n",
              "      <td>NaN</td>\n",
              "      <td>NaN</td>\n",
              "      <td>nan</td>\n",
              "      <td>NaN</td>\n",
              "      <td>NaN</td>\n",
              "      <td>Unknown</td>\n",
              "      <td>NaN</td>\n",
              "      <td>Central Heating</td>\n",
              "      <td>NaN</td>\n",
              "      <td>NaN</td>\n",
              "      <td>NaN</td>\n",
              "      <td>NaN</td>\n",
              "      <td>NaN</td>\n",
              "      <td>2664.00</td>\n",
              "      <td>13</td>\n",
              "    </tr>\n",
              "    <tr>\n",
              "      <th>434</th>\n",
              "      <td>https://www.immobilienscout24.de/expose/112844530</td>\n",
              "      <td>Tiergarten</td>\n",
              "      <td>no_information</td>\n",
              "      <td>4.0</td>\n",
              "      <td>2550.00</td>\n",
              "      <td>2017</td>\n",
              "      <td>121.00</td>\n",
              "      <td>2200.000000</td>\n",
              "      <td>keine</td>\n",
              "      <td>keine</td>\n",
              "      <td>2</td>\n",
              "      <td>NaN</td>\n",
              "      <td>NaN</td>\n",
              "      <td>Unknown</td>\n",
              "      <td>NaN</td>\n",
              "      <td>Underfloor Heating</td>\n",
              "      <td>NaN</td>\n",
              "      <td>NaN</td>\n",
              "      <td>NaN</td>\n",
              "      <td>NaN</td>\n",
              "      <td>NaN</td>\n",
              "      <td>5100.00</td>\n",
              "      <td>10</td>\n",
              "    </tr>\n",
              "    <tr>\n",
              "      <th>473</th>\n",
              "      <td>https://www.immobilienscout24.de/expose/116139053</td>\n",
              "      <td>Mitte</td>\n",
              "      <td>well_kept</td>\n",
              "      <td>3.0</td>\n",
              "      <td>1639.00</td>\n",
              "      <td>2014</td>\n",
              "      <td>96.00</td>\n",
              "      <td>1399.000000</td>\n",
              "      <td>+240€</td>\n",
              "      <td>in</td>\n",
              "      <td>4197.00</td>\n",
              "      <td>120€</td>\n",
              "      <td>NaN</td>\n",
              "      <td>Groomed</td>\n",
              "      <td>NaN</td>\n",
              "      <td>Underfloor Heating</td>\n",
              "      <td>Fernwärme Energieausweis liegt vor</td>\n",
              "      <td>liegt vor</td>\n",
              "      <td>Bedarfsausweis</td>\n",
              "      <td>65 kWh/(m²*a)</td>\n",
              "      <td>NaN</td>\n",
              "      <td>4197.00</td>\n",
              "      <td>3</td>\n",
              "    </tr>\n",
              "    <tr>\n",
              "      <th>203</th>\n",
              "      <td>https://www.immobilienscout24.de/expose/115802387</td>\n",
              "      <td>Wilmersdorf</td>\n",
              "      <td>fully_renovated</td>\n",
              "      <td>2.0</td>\n",
              "      <td>1359.00</td>\n",
              "      <td>1903</td>\n",
              "      <td>77.00</td>\n",
              "      <td>676.852286</td>\n",
              "      <td>NaN</td>\n",
              "      <td>NaN</td>\n",
              "      <td>nan</td>\n",
              "      <td>NaN</td>\n",
              "      <td>NaN</td>\n",
              "      <td>Unknown</td>\n",
              "      <td>NaN</td>\n",
              "      <td>Central Heating</td>\n",
              "      <td>NaN</td>\n",
              "      <td>NaN</td>\n",
              "      <td>NaN</td>\n",
              "      <td>NaN</td>\n",
              "      <td>NaN</td>\n",
              "      <td>4077.00</td>\n",
              "      <td>13</td>\n",
              "    </tr>\n",
              "    <tr>\n",
              "      <th>512</th>\n",
              "      <td>https://www.immobilienscout24.de/expose/114141720</td>\n",
              "      <td>Prenzlauer</td>\n",
              "      <td>mint_condition</td>\n",
              "      <td>3.0</td>\n",
              "      <td>2435.00</td>\n",
              "      <td>2015</td>\n",
              "      <td>122.98</td>\n",
              "      <td>1212.755935</td>\n",
              "      <td>NaN</td>\n",
              "      <td>NaN</td>\n",
              "      <td>nan</td>\n",
              "      <td>NaN</td>\n",
              "      <td>NaN</td>\n",
              "      <td>Unknown</td>\n",
              "      <td>NaN</td>\n",
              "      <td>Underfloor Heating</td>\n",
              "      <td>NaN</td>\n",
              "      <td>NaN</td>\n",
              "      <td>NaN</td>\n",
              "      <td>NaN</td>\n",
              "      <td>NaN</td>\n",
              "      <td>7305.00</td>\n",
              "      <td>13</td>\n",
              "    </tr>\n",
              "    <tr>\n",
              "      <th>360</th>\n",
              "      <td>https://www.immobilienscout24.de/expose/115695194</td>\n",
              "      <td>Prenzlauer</td>\n",
              "      <td>first_time_use</td>\n",
              "      <td>3.0</td>\n",
              "      <td>2812.00</td>\n",
              "      <td>2019</td>\n",
              "      <td>100.70</td>\n",
              "      <td>2490.000000</td>\n",
              "      <td>+322€</td>\n",
              "      <td>in</td>\n",
              "      <td>7470.00</td>\n",
              "      <td>NaN</td>\n",
              "      <td>NaN</td>\n",
              "      <td>New</td>\n",
              "      <td>Luxus</td>\n",
              "      <td>Central Heating</td>\n",
              "      <td>Gas</td>\n",
              "      <td>NaN</td>\n",
              "      <td>Verbrauchsausweis Energie­ver­brauchs­kennwert...</td>\n",
              "      <td>NaN</td>\n",
              "      <td>NaN</td>\n",
              "      <td>7470.00</td>\n",
              "      <td>5</td>\n",
              "    </tr>\n",
              "    <tr>\n",
              "      <th>630</th>\n",
              "      <td>https://www.immobilienscout24.de/expose/115358240</td>\n",
              "      <td>Tiergarten</td>\n",
              "      <td>first_time_use</td>\n",
              "      <td>4.0</td>\n",
              "      <td>2499.59</td>\n",
              "      <td>2019</td>\n",
              "      <td>122.83</td>\n",
              "      <td>2131.100000</td>\n",
              "      <td>+245,66€</td>\n",
              "      <td>+122,83€</td>\n",
              "      <td>4263</td>\n",
              "      <td>NaN</td>\n",
              "      <td>2019.0</td>\n",
              "      <td>New</td>\n",
              "      <td>Gehobene Qualität</td>\n",
              "      <td>District Heating</td>\n",
              "      <td>Fernwärme Energieausweis liegt vor</td>\n",
              "      <td>liegt vor</td>\n",
              "      <td>Bedarfsausweis</td>\n",
              "      <td>66,2 kWh/(m²*a)</td>\n",
              "      <td>B</td>\n",
              "      <td>4263.00</td>\n",
              "      <td>1</td>\n",
              "    </tr>\n",
              "    <tr>\n",
              "      <th>449</th>\n",
              "      <td>https://www.immobilienscout24.de/expose/114030902</td>\n",
              "      <td>Mitte</td>\n",
              "      <td>mint_condition</td>\n",
              "      <td>4.0</td>\n",
              "      <td>4192.63</td>\n",
              "      <td>2015</td>\n",
              "      <td>191.13</td>\n",
              "      <td>2088.146577</td>\n",
              "      <td>NaN</td>\n",
              "      <td>NaN</td>\n",
              "      <td>nan</td>\n",
              "      <td>NaN</td>\n",
              "      <td>NaN</td>\n",
              "      <td>Unknown</td>\n",
              "      <td>NaN</td>\n",
              "      <td>Underfloor Heating</td>\n",
              "      <td>NaN</td>\n",
              "      <td>NaN</td>\n",
              "      <td>NaN</td>\n",
              "      <td>NaN</td>\n",
              "      <td>NaN</td>\n",
              "      <td>12577.89</td>\n",
              "      <td>13</td>\n",
              "    </tr>\n",
              "  </tbody>\n",
              "</table>\n",
              "</div>"
            ],
            "text/plain": [
              "                                                   url  ... n_missing\n",
              "745  https://www.immobilienscout24.de/expose/109139762  ...        13\n",
              "110  https://www.immobilienscout24.de/expose/114734492  ...         5\n",
              "322   https://www.immobilienscout24.de/expose/99320272  ...        13\n",
              "434  https://www.immobilienscout24.de/expose/112844530  ...        10\n",
              "473  https://www.immobilienscout24.de/expose/116139053  ...         3\n",
              "203  https://www.immobilienscout24.de/expose/115802387  ...        13\n",
              "512  https://www.immobilienscout24.de/expose/114141720  ...        13\n",
              "360  https://www.immobilienscout24.de/expose/115695194  ...         5\n",
              "630  https://www.immobilienscout24.de/expose/115358240  ...         1\n",
              "449  https://www.immobilienscout24.de/expose/114030902  ...        13\n",
              "\n",
              "[10 rows x 23 columns]"
            ]
          },
          "metadata": {},
          "execution_count": 15
        }
      ]
    },
    {
      "cell_type": "markdown",
      "metadata": {
        "id": "RLAa7wgu4E0V"
      },
      "source": [
        "## 2. Clean: `renovated_date`\n",
        "\n",
        "Please explain why you choose your strategy for filling the missing values.\n",
        "\n",
        "**Strategy**\n",
        "- Replace each missing renovated_date value with the median of renovated date\n",
        "\n",
        "**Why?**\n",
        "- Since most apartments were renovated during this year, I decided to use the median\n",
        "- Revovated date is an important factor considered when renting an apartment. Hence, this column is important for further analysis and could not be dropped"
      ]
    },
    {
      "cell_type": "code",
      "metadata": {
        "colab": {
          "base_uri": "https://localhost:8080/"
        },
        "id": "LtdYtjEiVj40",
        "outputId": "7331b8cd-312d-4af0-bb60-820fd0e0023d"
      },
      "source": [
        "combined['renovated_date'].value_counts()"
      ],
      "execution_count": 16,
      "outputs": [
        {
          "output_type": "execute_result",
          "data": {
            "text/plain": [
              "2019.0    121\n",
              "2020.0     26\n",
              "2016.0     13\n",
              "2017.0     12\n",
              "2018.0     11\n",
              "2015.0      4\n",
              "1995.0      2\n",
              "2011.0      2\n",
              "2014.0      1\n",
              "2012.0      1\n",
              "2010.0      1\n",
              "2006.0      1\n",
              "Name: renovated_date, dtype: int64"
            ]
          },
          "metadata": {},
          "execution_count": 16
        }
      ]
    },
    {
      "cell_type": "code",
      "metadata": {
        "colab": {
          "base_uri": "https://localhost:8080/"
        },
        "id": "BIMDdypPrWkE",
        "outputId": "140130ff-ee3d-4e27-8118-b7006eb2b70a"
      },
      "source": [
        "combined['condition'].value_counts()"
      ],
      "execution_count": 17,
      "outputs": [
        {
          "output_type": "execute_result",
          "data": {
            "text/plain": [
              "first_time_use                        270\n",
              "mint_condition                        143\n",
              "no_information                        111\n",
              "well_kept                              96\n",
              "refurbished                            40\n",
              "first_time_use_after_refurbishment     36\n",
              "fully_renovated                        35\n",
              "modernized                             29\n",
              "need_of_renovation                      4\n",
              "Name: condition, dtype: int64"
            ]
          },
          "metadata": {},
          "execution_count": 17
        }
      ]
    },
    {
      "cell_type": "code",
      "metadata": {
        "id": "FVxi_0tcwdEl",
        "colab": {
          "base_uri": "https://localhost:8080/"
        },
        "outputId": "5b284c0f-0bf7-47eb-f93c-e3d52c0e27d2"
      },
      "source": [
        "combined['renovated_date'].mean()"
      ],
      "execution_count": 18,
      "outputs": [
        {
          "output_type": "execute_result",
          "data": {
            "text/plain": [
              "2018.1692307692308"
            ]
          },
          "metadata": {},
          "execution_count": 18
        }
      ]
    },
    {
      "cell_type": "code",
      "metadata": {
        "colab": {
          "base_uri": "https://localhost:8080/"
        },
        "id": "4pbwhbqqAonb",
        "outputId": "8446d208-53e9-4e78-a3d9-af58b1ca034d"
      },
      "source": [
        "combined['renovated_date'].median()"
      ],
      "execution_count": 19,
      "outputs": [
        {
          "output_type": "execute_result",
          "data": {
            "text/plain": [
              "2019.0"
            ]
          },
          "metadata": {},
          "execution_count": 19
        }
      ]
    },
    {
      "cell_type": "code",
      "metadata": {
        "colab": {
          "base_uri": "https://localhost:8080/"
        },
        "id": "M-MRTOwCAyAl",
        "outputId": "5fb6f302-3c9d-4a7e-d7e5-9444d169acc7"
      },
      "source": [
        "combined['renovated_date'] = combined['renovated_date'].fillna(2019)\n",
        "combined['renovated_date'].isnull().sum()"
      ],
      "execution_count": 20,
      "outputs": [
        {
          "output_type": "execute_result",
          "data": {
            "text/plain": [
              "0"
            ]
          },
          "metadata": {},
          "execution_count": 20
        }
      ]
    },
    {
      "cell_type": "code",
      "metadata": {
        "colab": {
          "base_uri": "https://localhost:8080/"
        },
        "id": "pQqjR7TLBLnn",
        "outputId": "b34c9795-ffe5-4fed-b4fc-c9b91c035dd6"
      },
      "source": [
        "(combined.isnull().sum() / len(combined)).sort_values(ascending = False)"
      ],
      "execution_count": 21,
      "outputs": [
        {
          "output_type": "execute_result",
          "data": {
            "text/plain": [
              "parking_space          0.882199\n",
              "efficiency_class       0.671466\n",
              "energy_requirement     0.573298\n",
              "heating_costs          0.442408\n",
              "utilities              0.442408\n",
              "furnishing             0.417539\n",
              "energy_certificate     0.409686\n",
              "type_of_certificate    0.388743\n",
              "energy_sources         0.353403\n",
              "space                  0.000000\n",
              "region                 0.000000\n",
              "condition              0.000000\n",
              "rooms                  0.000000\n",
              "rent                   0.000000\n",
              "year_construction      0.000000\n",
              "n_missing              0.000000\n",
              "cold_rent              0.000000\n",
              "security_deposit       0.000000\n",
              "deposit_cleaned        0.000000\n",
              "renovated_date         0.000000\n",
              "property_condition     0.000000\n",
              "heating_type           0.000000\n",
              "url                    0.000000\n",
              "dtype: float64"
            ]
          },
          "metadata": {},
          "execution_count": 21
        }
      ]
    },
    {
      "cell_type": "markdown",
      "metadata": {
        "id": "BMqdgnI3Y7BN"
      },
      "source": [
        "## 3. Clean: `parking_space`\n",
        "\n",
        "Please explain why you choose your strategy for filling the missing values.\n",
        "\n",
        "**Strategy**\n",
        "- Missing parking_space values are not filled\n",
        "\n",
        "**Why?**\n",
        "- Most house in the region where values are missing in reality do not have parking space "
      ]
    },
    {
      "cell_type": "code",
      "metadata": {
        "colab": {
          "base_uri": "https://localhost:8080/"
        },
        "id": "wvdkA7KGBiZd",
        "outputId": "3c353040-70c2-4068-f2ce-0b19b8277294"
      },
      "source": [
        "combined.info()"
      ],
      "execution_count": 22,
      "outputs": [
        {
          "output_type": "stream",
          "name": "stdout",
          "text": [
            "<class 'pandas.core.frame.DataFrame'>\n",
            "RangeIndex: 764 entries, 0 to 763\n",
            "Data columns (total 23 columns):\n",
            " #   Column               Non-Null Count  Dtype  \n",
            "---  ------               --------------  -----  \n",
            " 0   url                  764 non-null    object \n",
            " 1   region               764 non-null    object \n",
            " 2   condition            764 non-null    object \n",
            " 3   rooms                764 non-null    float64\n",
            " 4   rent                 764 non-null    float64\n",
            " 5   year_construction    764 non-null    int64  \n",
            " 6   space                764 non-null    float64\n",
            " 7   cold_rent            764 non-null    float64\n",
            " 8   utilities            426 non-null    object \n",
            " 9   heating_costs        426 non-null    object \n",
            " 10  security_deposit     764 non-null    object \n",
            " 11  parking_space        90 non-null     object \n",
            " 12  renovated_date       764 non-null    float64\n",
            " 13  property_condition   764 non-null    object \n",
            " 14  furnishing           445 non-null    object \n",
            " 15  heating_type         764 non-null    object \n",
            " 16  energy_sources       494 non-null    object \n",
            " 17  energy_certificate   451 non-null    object \n",
            " 18  type_of_certificate  467 non-null    object \n",
            " 19  energy_requirement   326 non-null    object \n",
            " 20  efficiency_class     251 non-null    object \n",
            " 21  deposit_cleaned      764 non-null    float64\n",
            " 22  n_missing            764 non-null    int64  \n",
            "dtypes: float64(6), int64(2), object(15)\n",
            "memory usage: 137.4+ KB\n"
          ]
        }
      ]
    },
    {
      "cell_type": "code",
      "metadata": {
        "id": "PjMfP4MvY5Fr",
        "colab": {
          "base_uri": "https://localhost:8080/"
        },
        "outputId": "a30e194e-f39d-46cf-e2c5-4cac38b1a249"
      },
      "source": [
        "## code here\n",
        "combined['parking_space'].unique()"
      ],
      "execution_count": 23,
      "outputs": [
        {
          "output_type": "execute_result",
          "data": {
            "text/plain": [
              "array([nan, '70€', '0€', '100€', '150€', '60€', '145€', '200€', '90€',\n",
              "       '149€', '75€', '120€', '130€', '350€', '119€', '140€', '220€',\n",
              "       '110€', '166,6€', '180€', '250€', '280€'], dtype=object)"
            ]
          },
          "metadata": {},
          "execution_count": 23
        }
      ]
    },
    {
      "cell_type": "code",
      "metadata": {
        "colab": {
          "base_uri": "https://localhost:8080/"
        },
        "id": "qLjtawsmEaP3",
        "outputId": "b1bd2684-c750-4da6-f5f6-18db3987bfc7"
      },
      "source": [
        "combined['parking_space'] = combined['parking_space'].str.replace('€', '')\n",
        "combined['parking_space'].unique()"
      ],
      "execution_count": 24,
      "outputs": [
        {
          "output_type": "execute_result",
          "data": {
            "text/plain": [
              "array([nan, '70', '0', '100', '150', '60', '145', '200', '90', '149',\n",
              "       '75', '120', '130', '350', '119', '140', '220', '110', '166,6',\n",
              "       '180', '250', '280'], dtype=object)"
            ]
          },
          "metadata": {},
          "execution_count": 24
        }
      ]
    },
    {
      "cell_type": "code",
      "metadata": {
        "colab": {
          "base_uri": "https://localhost:8080/"
        },
        "id": "qfbdVyUxFwsy",
        "outputId": "48e9624f-3a3d-48da-9b1c-825d163f5bb2"
      },
      "source": [
        "combined['parking_space'] = combined['parking_space'].str.replace(',', '.')\n",
        "combined['parking_space'].unique()"
      ],
      "execution_count": 25,
      "outputs": [
        {
          "output_type": "execute_result",
          "data": {
            "text/plain": [
              "array([nan, '70', '0', '100', '150', '60', '145', '200', '90', '149',\n",
              "       '75', '120', '130', '350', '119', '140', '220', '110', '166.6',\n",
              "       '180', '250', '280'], dtype=object)"
            ]
          },
          "metadata": {},
          "execution_count": 25
        }
      ]
    },
    {
      "cell_type": "code",
      "metadata": {
        "colab": {
          "base_uri": "https://localhost:8080/"
        },
        "id": "myAUCp6eEq5f",
        "outputId": "1989b6f1-91ea-403c-b464-a5c3bf991141"
      },
      "source": [
        "combined['parking_space'] = combined['parking_space'].astype(float)\n",
        "combined['parking_space'].mean()"
      ],
      "execution_count": 27,
      "outputs": [
        {
          "output_type": "execute_result",
          "data": {
            "text/plain": [
              "139.66222222222223"
            ]
          },
          "metadata": {},
          "execution_count": 27
        }
      ]
    },
    {
      "cell_type": "code",
      "metadata": {
        "colab": {
          "base_uri": "https://localhost:8080/"
        },
        "id": "pY9JI8aYGwWh",
        "outputId": "02b01d45-b5cf-4eda-b89e-3b0b1a6df87d"
      },
      "source": [
        "combined['parking_space'].mode()"
      ],
      "execution_count": 28,
      "outputs": [
        {
          "output_type": "execute_result",
          "data": {
            "text/plain": [
              "0    120.0\n",
              "dtype: float64"
            ]
          },
          "metadata": {},
          "execution_count": 28
        }
      ]
    },
    {
      "cell_type": "code",
      "metadata": {
        "colab": {
          "base_uri": "https://localhost:8080/"
        },
        "id": "vMFWBIRqG1DB",
        "outputId": "522a5c58-1ac6-434a-bdcb-d6a0139ebe82"
      },
      "source": [
        "combined['parking_space'].median()"
      ],
      "execution_count": 29,
      "outputs": [
        {
          "output_type": "execute_result",
          "data": {
            "text/plain": [
              "120.0"
            ]
          },
          "metadata": {},
          "execution_count": 29
        }
      ]
    },
    {
      "cell_type": "code",
      "metadata": {
        "colab": {
          "base_uri": "https://localhost:8080/",
          "height": 381
        },
        "id": "u7NWJVGgHC-g",
        "outputId": "dc893fc8-370d-4075-e4f1-cfdb9ab2046c"
      },
      "source": [
        "combined.groupby('region')[['parking_space']].mean()"
      ],
      "execution_count": 30,
      "outputs": [
        {
          "output_type": "execute_result",
          "data": {
            "text/html": [
              "<div>\n",
              "<style scoped>\n",
              "    .dataframe tbody tr th:only-of-type {\n",
              "        vertical-align: middle;\n",
              "    }\n",
              "\n",
              "    .dataframe tbody tr th {\n",
              "        vertical-align: top;\n",
              "    }\n",
              "\n",
              "    .dataframe thead th {\n",
              "        text-align: right;\n",
              "    }\n",
              "</style>\n",
              "<table border=\"1\" class=\"dataframe\">\n",
              "  <thead>\n",
              "    <tr style=\"text-align: right;\">\n",
              "      <th></th>\n",
              "      <th>parking_space</th>\n",
              "    </tr>\n",
              "    <tr>\n",
              "      <th>region</th>\n",
              "      <th></th>\n",
              "    </tr>\n",
              "  </thead>\n",
              "  <tbody>\n",
              "    <tr>\n",
              "      <th>Charlottenburg</th>\n",
              "      <td>120.900000</td>\n",
              "    </tr>\n",
              "    <tr>\n",
              "      <th>Friedrichsfelde</th>\n",
              "      <td>0.000000</td>\n",
              "    </tr>\n",
              "    <tr>\n",
              "      <th>Kreuzberg</th>\n",
              "      <td>125.000000</td>\n",
              "    </tr>\n",
              "    <tr>\n",
              "      <th>Köpenick</th>\n",
              "      <td>82.500000</td>\n",
              "    </tr>\n",
              "    <tr>\n",
              "      <th>Mitte</th>\n",
              "      <td>172.331707</td>\n",
              "    </tr>\n",
              "    <tr>\n",
              "      <th>Neukölln</th>\n",
              "      <td>98.750000</td>\n",
              "    </tr>\n",
              "    <tr>\n",
              "      <th>Prenzlauer</th>\n",
              "      <td>NaN</td>\n",
              "    </tr>\n",
              "    <tr>\n",
              "      <th>Tiergarten</th>\n",
              "      <td>116.000000</td>\n",
              "    </tr>\n",
              "    <tr>\n",
              "      <th>Wedding</th>\n",
              "      <td>NaN</td>\n",
              "    </tr>\n",
              "    <tr>\n",
              "      <th>Wilmersdorf</th>\n",
              "      <td>133.571429</td>\n",
              "    </tr>\n",
              "  </tbody>\n",
              "</table>\n",
              "</div>"
            ],
            "text/plain": [
              "                 parking_space\n",
              "region                        \n",
              "Charlottenburg      120.900000\n",
              "Friedrichsfelde       0.000000\n",
              "Kreuzberg           125.000000\n",
              "Köpenick             82.500000\n",
              "Mitte               172.331707\n",
              "Neukölln             98.750000\n",
              "Prenzlauer                 NaN\n",
              "Tiergarten          116.000000\n",
              "Wedding                    NaN\n",
              "Wilmersdorf         133.571429"
            ]
          },
          "metadata": {},
          "execution_count": 30
        }
      ]
    },
    {
      "cell_type": "markdown",
      "metadata": {
        "id": "d-FJavHVZM16"
      },
      "source": [
        "## 4. Clean: `utilities`\n",
        "\n",
        "Please explain why you choose your strategy for filling the missing values.\n",
        "\n",
        "**Strategy**\n",
        "- Replace each missing heating_type value with mode\n",
        "\n",
        "**Why?**\n",
        "- Mode was choosing for simplicity sake"
      ]
    },
    {
      "cell_type": "code",
      "metadata": {
        "id": "loAsLiuCLDiD",
        "colab": {
          "base_uri": "https://localhost:8080/"
        },
        "outputId": "b18d7217-6121-411e-f071-7acca7f98f32"
      },
      "source": [
        "combined['utilities'].unique()"
      ],
      "execution_count": 32,
      "outputs": [
        {
          "output_type": "execute_result",
          "data": {
            "text/plain": [
              "array([nan, '+110€', '+40€', '+85€', '+200€', '+180€', '+65€', '+165€',\n",
              "       '+258,88€', '+60€', '+145€', '+70€', '+242,10€', '+298,14€',\n",
              "       '+280€', '+550€', '+760€', '+120€', '+75€', '+200,13€', '+356€',\n",
              "       'keine', '+250€', '+393€', '+135€', '+310€', '+140€', '+700€',\n",
              "       '+259,34€', '+100€', '+132€', '+128€', '+214€', '+254€', '+90€',\n",
              "       '+294€', '+453,60€', '+150€', '+434,17€', '+330€', '+675€',\n",
              "       '+151,71€', '+400€', '+270€', '+477€', '+579€', '+460€', '+265€',\n",
              "       '+160€', '+97,76€', '+111,75€', '+80€', '+163€', '+80,07€', '+68€',\n",
              "       '+209€', '+157,84€', '+211,75€', '+214,20€', '+274,65€',\n",
              "       '+345,30€', '+312,32€', '+224,34€', '+352,80€', '+351,90€',\n",
              "       '+183€', '+392,15€', '+262,16€', '+328€', '+205€', '+408,86€',\n",
              "       '+130€', '+249€', '+320€', '+210€', '+295€', '+408€', '+370€',\n",
              "       '+1€', '+194,42€', '+454€', '+162€', '+158€', '+217,19€',\n",
              "       '+120,32€', '+195€', '+215€', '+227€', '+300€', '+147,75€',\n",
              "       '+225,98€', '+266,84€', '+103,44€', '+176,60€', '+201,30€',\n",
              "       '+205,74€', '+190€', '+225€', '+178,60€', '+470€', '+224,62€',\n",
              "       '+248,32€', '+173€', '+147€', '+123€', '+168€', '+63€', '+226,49€',\n",
              "       '+255€', '+500€', '+750€', '+133,30€', '+225,84€', '+164,09€',\n",
              "       '+170€', '+98,38€', '+380€', '+235€', '+426,84€', '+137,04€',\n",
              "       '+164,74€', '+253€', '+322€', '+311,90€', '+580€', '+230€',\n",
              "       '+645€', '+0€', '+174€', '+212€', '+378,10€', '+315,21€',\n",
              "       '+232,40€', '+91€', '+307€', '+545€', '+130,80€', '+256€', '+284€',\n",
              "       '+189€', '+233€', '+227,73€', '+201€', '+222€', '+247€', '+240€',\n",
              "       '+415€', '+350€', '+127,04€', '+290€', '+198€', '+169,26€',\n",
              "       '+180,30€', '+277€', '+600€', '+304€', '+560€', '+410€',\n",
              "       '+1.026,50€', '+93€', '+121€', '+113,06€', '+125€', '+275€',\n",
              "       '+185€', '+296€', '+115,88€', '+66,47€', '+80,52€', '+213€',\n",
              "       '+149€', '+153€', '+570€', '+394,49€', '+289,10€', '+372,26€',\n",
              "       '+133,62€', '+230,05€', '+131,10€', '+191€', '+121,49€', '+263€',\n",
              "       '+559€', '+586€', '+204,76€', '+136,05€', '+118,86€', '+336,81€',\n",
              "       '+191,92€', '+129,46€', '+180,94€', '+178,38€', '+167,56€',\n",
              "       '+154,40€', '+143,64€', '+231,40€', '+164,30€', '+174,86€',\n",
              "       '+175€', '+450€', '+140,90€', '+245,66€', '+190,68€', '+198,88€',\n",
              "       '+133,20€', '+129,56€', '+132,62€', '+167,94€', '+395,76€',\n",
              "       '+331,20€', '+196,08€', '+182,08€', '+61,40€', '+200,98€',\n",
              "       '+197,40€', '+132,76€', '+193,46€', '+192,52€', '+130,70€',\n",
              "       '+193,86€', '+193,94€', '+238,88€', '+172,12€', '+184,10€',\n",
              "       '+214,52€', '+153,14€', '+163,92€', '+169,62€', '+874,80€',\n",
              "       '+163,34€', '+242,72€', '+169,96€', '+150,54€', '+922,50€',\n",
              "       '+196,12€', '+203,04€', '+201,96€', '+163,30€', '+213,28€',\n",
              "       '+196,04€', '+163,90€', '+510€', '+163,44€', '+184,84€',\n",
              "       '+185,12€', '+187,94€', '+244,58€', '+242,30€', '+171,40€',\n",
              "       '+203,38€', '+163,14€', '+195,74€', '+169,36€', '+222,98€',\n",
              "       '+208,26€', '+245,30€', '+390€', '+217,16€', '+217,72€', '+220€',\n",
              "       '+362,60€', '+204,71€'], dtype=object)"
            ]
          },
          "metadata": {},
          "execution_count": 32
        }
      ]
    },
    {
      "cell_type": "code",
      "metadata": {
        "id": "1gCHzQ5JY5IS",
        "colab": {
          "base_uri": "https://localhost:8080/"
        },
        "outputId": "f2a829d6-65b6-4dbd-a5f2-6bc198d0722b"
      },
      "source": [
        "## removing the € sign\n",
        "combined['utilities'] = combined['utilities'].str.replace('€', '').str.replace('+', '').str.replace(',', '.')\n",
        "combined['utilities'].unique()"
      ],
      "execution_count": 33,
      "outputs": [
        {
          "output_type": "execute_result",
          "data": {
            "text/plain": [
              "array([nan, '110', '40', '85', '200', '180', '65', '165', '258.88', '60',\n",
              "       '145', '70', '242.10', '298.14', '280', '550', '760', '120', '75',\n",
              "       '200.13', '356', 'keine', '250', '393', '135', '310', '140', '700',\n",
              "       '259.34', '100', '132', '128', '214', '254', '90', '294', '453.60',\n",
              "       '150', '434.17', '330', '675', '151.71', '400', '270', '477',\n",
              "       '579', '460', '265', '160', '97.76', '111.75', '80', '163',\n",
              "       '80.07', '68', '209', '157.84', '211.75', '214.20', '274.65',\n",
              "       '345.30', '312.32', '224.34', '352.80', '351.90', '183', '392.15',\n",
              "       '262.16', '328', '205', '408.86', '130', '249', '320', '210',\n",
              "       '295', '408', '370', '1', '194.42', '454', '162', '158', '217.19',\n",
              "       '120.32', '195', '215', '227', '300', '147.75', '225.98', '266.84',\n",
              "       '103.44', '176.60', '201.30', '205.74', '190', '225', '178.60',\n",
              "       '470', '224.62', '248.32', '173', '147', '123', '168', '63',\n",
              "       '226.49', '255', '500', '750', '133.30', '225.84', '164.09', '170',\n",
              "       '98.38', '380', '235', '426.84', '137.04', '164.74', '253', '322',\n",
              "       '311.90', '580', '230', '645', '0', '174', '212', '378.10',\n",
              "       '315.21', '232.40', '91', '307', '545', '130.80', '256', '284',\n",
              "       '189', '233', '227.73', '201', '222', '247', '240', '415', '350',\n",
              "       '127.04', '290', '198', '169.26', '180.30', '277', '600', '304',\n",
              "       '560', '410', '1.026.50', '93', '121', '113.06', '125', '275',\n",
              "       '185', '296', '115.88', '66.47', '80.52', '213', '149', '153',\n",
              "       '570', '394.49', '289.10', '372.26', '133.62', '230.05', '131.10',\n",
              "       '191', '121.49', '263', '559', '586', '204.76', '136.05', '118.86',\n",
              "       '336.81', '191.92', '129.46', '180.94', '178.38', '167.56',\n",
              "       '154.40', '143.64', '231.40', '164.30', '174.86', '175', '450',\n",
              "       '140.90', '245.66', '190.68', '198.88', '133.20', '129.56',\n",
              "       '132.62', '167.94', '395.76', '331.20', '196.08', '182.08',\n",
              "       '61.40', '200.98', '197.40', '132.76', '193.46', '192.52',\n",
              "       '130.70', '193.86', '193.94', '238.88', '172.12', '184.10',\n",
              "       '214.52', '153.14', '163.92', '169.62', '874.80', '163.34',\n",
              "       '242.72', '169.96', '150.54', '922.50', '196.12', '203.04',\n",
              "       '201.96', '163.30', '213.28', '196.04', '163.90', '510', '163.44',\n",
              "       '184.84', '185.12', '187.94', '244.58', '242.30', '171.40',\n",
              "       '203.38', '163.14', '195.74', '169.36', '222.98', '208.26',\n",
              "       '245.30', '390', '217.16', '217.72', '220', '362.60', '204.71'],\n",
              "      dtype=object)"
            ]
          },
          "metadata": {},
          "execution_count": 33
        }
      ]
    },
    {
      "cell_type": "code",
      "metadata": {
        "id": "I3aMtR1D53mT",
        "colab": {
          "base_uri": "https://localhost:8080/"
        },
        "outputId": "47b58c33-9fbb-4b67-fd3b-24037ae339db"
      },
      "source": [
        "combined['utilities'].mode()"
      ],
      "execution_count": 34,
      "outputs": [
        {
          "output_type": "execute_result",
          "data": {
            "text/plain": [
              "0    250\n",
              "dtype: object"
            ]
          },
          "metadata": {},
          "execution_count": 34
        }
      ]
    },
    {
      "cell_type": "code",
      "metadata": {
        "id": "fnrJlwmo7M1a",
        "colab": {
          "base_uri": "https://localhost:8080/"
        },
        "outputId": "1355e775-4382-435b-d929-293a353135c5"
      },
      "source": [
        "combined['utilities'] = combined['utilities'].fillna(250)\n",
        "combined['utilities'].isnull().sum()"
      ],
      "execution_count": 35,
      "outputs": [
        {
          "output_type": "execute_result",
          "data": {
            "text/plain": [
              "0"
            ]
          },
          "metadata": {},
          "execution_count": 35
        }
      ]
    },
    {
      "cell_type": "code",
      "metadata": {
        "id": "o4pfmjVO89Hx"
      },
      "source": [
        "# Saving the cleaned dataset into an excel file\n",
        "combined.to_excel(r\"/content/cleaned_berlin_housing_data.xlsx\")"
      ],
      "execution_count": 39,
      "outputs": []
    }
  ]
}